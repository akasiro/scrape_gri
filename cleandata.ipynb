{
 "cells": [
  {
   "cell_type": "code",
   "execution_count": 23,
   "metadata": {},
   "outputs": [],
   "source": [
    "import pandas as pd\n",
    "import sqlite3"
   ]
  },
  {
   "cell_type": "code",
   "execution_count": 30,
   "metadata": {},
   "outputs": [],
   "source": [
    "conn = sqlite3.connect('test.db')"
   ]
  },
  {
   "cell_type": "code",
   "execution_count": 31,
   "metadata": {},
   "outputs": [],
   "source": [
    "base = pd.read_sql('select * from gri_base', conn)\n",
    "base = base.drop_duplicates()"
   ]
  },
  {
   "cell_type": "code",
   "execution_count": 32,
   "metadata": {},
   "outputs": [
    {
     "name": "stdout",
     "output_type": "stream",
     "text": [
      "(14911, 7)\n"
     ]
    },
    {
     "data": {
      "text/html": [
       "<div>\n",
       "<style scoped>\n",
       "    .dataframe tbody tr th:only-of-type {\n",
       "        vertical-align: middle;\n",
       "    }\n",
       "\n",
       "    .dataframe tbody tr th {\n",
       "        vertical-align: top;\n",
       "    }\n",
       "\n",
       "    .dataframe thead th {\n",
       "        text-align: right;\n",
       "    }\n",
       "</style>\n",
       "<table border=\"1\" class=\"dataframe\">\n",
       "  <thead>\n",
       "    <tr style=\"text-align: right;\">\n",
       "      <th></th>\n",
       "      <th>ORG_name</th>\n",
       "      <th>ORG_url</th>\n",
       "      <th>size</th>\n",
       "      <th>sector</th>\n",
       "      <th>country</th>\n",
       "      <th>Region</th>\n",
       "      <th>Reports</th>\n",
       "    </tr>\n",
       "  </thead>\n",
       "  <tbody>\n",
       "    <tr>\n",
       "      <th>0</th>\n",
       "      <td>104</td>\n",
       "      <td>/organizations/8738/</td>\n",
       "      <td>MNE</td>\n",
       "      <td>Media</td>\n",
       "      <td>/static/img/flag-icons/flags_iso/16/tw.png</td>\n",
       "      <td>Asia</td>\n",
       "      <td>None</td>\n",
       "    </tr>\n",
       "    <tr>\n",
       "      <th>1</th>\n",
       "      <td>1&amp;1 Drillisch AG</td>\n",
       "      <td>/organizations/18810/</td>\n",
       "      <td>Large</td>\n",
       "      <td>Telecommunications</td>\n",
       "      <td>/static/img/flag-icons/flags_iso/16/de.png</td>\n",
       "      <td>Europe</td>\n",
       "      <td>None</td>\n",
       "    </tr>\n",
       "    <tr>\n",
       "      <th>2</th>\n",
       "      <td>123</td>\n",
       "      <td>/organizations/17892/</td>\n",
       "      <td>SME</td>\n",
       "      <td>Agriculture</td>\n",
       "      <td>/static/img/flag-icons/flags_iso/16/af.png</td>\n",
       "      <td>Asia</td>\n",
       "      <td>None</td>\n",
       "    </tr>\n",
       "    <tr>\n",
       "      <th>3</th>\n",
       "      <td>1time</td>\n",
       "      <td>/organizations/4821/</td>\n",
       "      <td>Large</td>\n",
       "      <td>Logistics</td>\n",
       "      <td>/static/img/flag-icons/flags_iso/16/za.png</td>\n",
       "      <td>Africa</td>\n",
       "      <td>None</td>\n",
       "    </tr>\n",
       "    <tr>\n",
       "      <th>4</th>\n",
       "      <td>20km de Lausanne</td>\n",
       "      <td>/organizations/15230/</td>\n",
       "      <td>SME</td>\n",
       "      <td>Tourism/Leisure</td>\n",
       "      <td>/static/img/flag-icons/flags_iso/16/ch.png</td>\n",
       "      <td>Europe</td>\n",
       "      <td>None</td>\n",
       "    </tr>\n",
       "  </tbody>\n",
       "</table>\n",
       "</div>"
      ],
      "text/plain": [
       "           ORG_name                ORG_url   size              sector  \\\n",
       "0               104   /organizations/8738/    MNE               Media   \n",
       "1  1&1 Drillisch AG  /organizations/18810/  Large  Telecommunications   \n",
       "2               123  /organizations/17892/    SME         Agriculture   \n",
       "3             1time   /organizations/4821/  Large           Logistics   \n",
       "4  20km de Lausanne  /organizations/15230/    SME     Tourism/Leisure   \n",
       "\n",
       "                                      country  Region Reports  \n",
       "0  /static/img/flag-icons/flags_iso/16/tw.png    Asia    None  \n",
       "1  /static/img/flag-icons/flags_iso/16/de.png  Europe    None  \n",
       "2  /static/img/flag-icons/flags_iso/16/af.png    Asia    None  \n",
       "3  /static/img/flag-icons/flags_iso/16/za.png  Africa    None  \n",
       "4  /static/img/flag-icons/flags_iso/16/ch.png  Europe    None  "
      ]
     },
     "execution_count": 32,
     "metadata": {},
     "output_type": "execute_result"
    }
   ],
   "source": [
    "print(base.shape)\n",
    "base.head()"
   ]
  },
  {
   "cell_type": "code",
   "execution_count": 33,
   "metadata": {},
   "outputs": [
    {
     "data": {
      "text/html": [
       "<div>\n",
       "<style scoped>\n",
       "    .dataframe tbody tr th:only-of-type {\n",
       "        vertical-align: middle;\n",
       "    }\n",
       "\n",
       "    .dataframe tbody tr th {\n",
       "        vertical-align: top;\n",
       "    }\n",
       "\n",
       "    .dataframe thead th {\n",
       "        text-align: right;\n",
       "    }\n",
       "</style>\n",
       "<table border=\"1\" class=\"dataframe\">\n",
       "  <thead>\n",
       "    <tr style=\"text-align: right;\">\n",
       "      <th></th>\n",
       "      <th>flag_url</th>\n",
       "      <th>country</th>\n",
       "    </tr>\n",
       "  </thead>\n",
       "  <tbody>\n",
       "    <tr>\n",
       "      <th>0</th>\n",
       "      <td>/static/img/flag-icons/flags_iso/16/tw.png</td>\n",
       "      <td>Taiwan</td>\n",
       "    </tr>\n",
       "    <tr>\n",
       "      <th>1</th>\n",
       "      <td>/static/img/flag-icons/flags_iso/16/de.png</td>\n",
       "      <td>Germany</td>\n",
       "    </tr>\n",
       "    <tr>\n",
       "      <th>2</th>\n",
       "      <td>/static/img/flag-icons/flags_iso/16/af.png</td>\n",
       "      <td>Afghanistan</td>\n",
       "    </tr>\n",
       "    <tr>\n",
       "      <th>3</th>\n",
       "      <td>/static/img/flag-icons/flags_iso/16/za.png</td>\n",
       "      <td>South Africa</td>\n",
       "    </tr>\n",
       "    <tr>\n",
       "      <th>4</th>\n",
       "      <td>/static/img/flag-icons/flags_iso/16/ch.png</td>\n",
       "      <td>Switzerland</td>\n",
       "    </tr>\n",
       "    <tr>\n",
       "      <th>...</th>\n",
       "      <td>...</td>\n",
       "      <td>...</td>\n",
       "    </tr>\n",
       "    <tr>\n",
       "      <th>138</th>\n",
       "      <td>/static/img/flag-icons/flags_iso/16/ga.png</td>\n",
       "      <td>Gabon</td>\n",
       "    </tr>\n",
       "    <tr>\n",
       "      <th>139</th>\n",
       "      <td>/static/img/flag-icons/flags_iso/16/cm.png</td>\n",
       "      <td>Cameroon</td>\n",
       "    </tr>\n",
       "    <tr>\n",
       "      <th>140</th>\n",
       "      <td>/static/img/flag-icons/flags_iso/16/sr.png</td>\n",
       "      <td>Suriname</td>\n",
       "    </tr>\n",
       "    <tr>\n",
       "      <th>141</th>\n",
       "      <td>/static/img/flag-icons/flags_iso/16/sy.png</td>\n",
       "      <td>Syrian Arab Republic</td>\n",
       "    </tr>\n",
       "    <tr>\n",
       "      <th>142</th>\n",
       "      <td>/static/img/flag-icons/flags_iso/16/mk.png</td>\n",
       "      <td>Former Yugoslav Republic of Macedonia</td>\n",
       "    </tr>\n",
       "  </tbody>\n",
       "</table>\n",
       "<p>143 rows × 2 columns</p>\n",
       "</div>"
      ],
      "text/plain": [
       "                                       flag_url  \\\n",
       "0    /static/img/flag-icons/flags_iso/16/tw.png   \n",
       "1    /static/img/flag-icons/flags_iso/16/de.png   \n",
       "2    /static/img/flag-icons/flags_iso/16/af.png   \n",
       "3    /static/img/flag-icons/flags_iso/16/za.png   \n",
       "4    /static/img/flag-icons/flags_iso/16/ch.png   \n",
       "..                                          ...   \n",
       "138  /static/img/flag-icons/flags_iso/16/ga.png   \n",
       "139  /static/img/flag-icons/flags_iso/16/cm.png   \n",
       "140  /static/img/flag-icons/flags_iso/16/sr.png   \n",
       "141  /static/img/flag-icons/flags_iso/16/sy.png   \n",
       "142  /static/img/flag-icons/flags_iso/16/mk.png   \n",
       "\n",
       "                                   country  \n",
       "0                                   Taiwan  \n",
       "1                                  Germany  \n",
       "2                              Afghanistan  \n",
       "3                             South Africa  \n",
       "4                              Switzerland  \n",
       "..                                     ...  \n",
       "138                                  Gabon  \n",
       "139                               Cameroon  \n",
       "140                               Suriname  \n",
       "141                   Syrian Arab Republic  \n",
       "142  Former Yugoslav Republic of Macedonia  \n",
       "\n",
       "[143 rows x 2 columns]"
      ]
     },
     "execution_count": 33,
     "metadata": {},
     "output_type": "execute_result"
    }
   ],
   "source": [
    "flag = pd.read_excel('flag_country.xlsx')\n",
    "flag"
   ]
  },
  {
   "cell_type": "code",
   "execution_count": 34,
   "metadata": {},
   "outputs": [],
   "source": [
    "rep = pd.read_sql('select * from gri_reports', conn)\n",
    "rep = rep.drop_duplicates()"
   ]
  },
  {
   "cell_type": "code",
   "execution_count": 35,
   "metadata": {},
   "outputs": [
    {
     "data": {
      "text/plain": [
       "(62929, 4)"
      ]
     },
     "execution_count": 35,
     "metadata": {},
     "output_type": "execute_result"
    }
   ],
   "source": [
    "rep.shape"
   ]
  },
  {
   "cell_type": "code",
   "execution_count": 36,
   "metadata": {},
   "outputs": [
    {
     "data": {
      "text/html": [
       "<div>\n",
       "<style scoped>\n",
       "    .dataframe tbody tr th:only-of-type {\n",
       "        vertical-align: middle;\n",
       "    }\n",
       "\n",
       "    .dataframe tbody tr th {\n",
       "        vertical-align: top;\n",
       "    }\n",
       "\n",
       "    .dataframe thead th {\n",
       "        text-align: right;\n",
       "    }\n",
       "</style>\n",
       "<table border=\"1\" class=\"dataframe\">\n",
       "  <thead>\n",
       "    <tr style=\"text-align: right;\">\n",
       "      <th></th>\n",
       "      <th>ORG_url</th>\n",
       "      <th>report_url</th>\n",
       "      <th>report_year</th>\n",
       "      <th>report_label</th>\n",
       "    </tr>\n",
       "  </thead>\n",
       "  <tbody>\n",
       "    <tr>\n",
       "      <th>0</th>\n",
       "      <td>/organizations/8738/</td>\n",
       "      <td>/reports/78733/</td>\n",
       "      <td>2019</td>\n",
       "      <td>GRI - Standards</td>\n",
       "    </tr>\n",
       "    <tr>\n",
       "      <th>1</th>\n",
       "      <td>/organizations/8738/</td>\n",
       "      <td>/reports/61008/</td>\n",
       "      <td>2018</td>\n",
       "      <td>GRI - G4</td>\n",
       "    </tr>\n",
       "    <tr>\n",
       "      <th>2</th>\n",
       "      <td>/organizations/8738/</td>\n",
       "      <td>/reports/56573/</td>\n",
       "      <td>2017</td>\n",
       "      <td>GRI - G4</td>\n",
       "    </tr>\n",
       "    <tr>\n",
       "      <th>3</th>\n",
       "      <td>/organizations/8738/</td>\n",
       "      <td>/reports/40587/</td>\n",
       "      <td>2016</td>\n",
       "      <td>Citing - GRI</td>\n",
       "    </tr>\n",
       "    <tr>\n",
       "      <th>4</th>\n",
       "      <td>/organizations/8738/</td>\n",
       "      <td>/reports/27981/</td>\n",
       "      <td>2015</td>\n",
       "      <td>GRI - G3.1</td>\n",
       "    </tr>\n",
       "  </tbody>\n",
       "</table>\n",
       "</div>"
      ],
      "text/plain": [
       "                ORG_url       report_url report_year     report_label\n",
       "0  /organizations/8738/  /reports/78733/        2019  GRI - Standards\n",
       "1  /organizations/8738/  /reports/61008/        2018         GRI - G4\n",
       "2  /organizations/8738/  /reports/56573/        2017         GRI - G4\n",
       "3  /organizations/8738/  /reports/40587/        2016     Citing - GRI\n",
       "4  /organizations/8738/  /reports/27981/        2015       GRI - G3.1"
      ]
     },
     "execution_count": 36,
     "metadata": {},
     "output_type": "execute_result"
    }
   ],
   "source": [
    "rep.head()"
   ]
  },
  {
   "cell_type": "code",
   "execution_count": 37,
   "metadata": {},
   "outputs": [],
   "source": [
    "conn2 = sqlite3.connect('gri.db')"
   ]
  },
  {
   "cell_type": "code",
   "execution_count": 38,
   "metadata": {},
   "outputs": [],
   "source": [
    "base.to_sql(name='gri_base',con=conn2,if_exists='append',index=False)\n",
    "rep.to_sql(name='gri_reports',con=conn2,if_exists='append',index=False)\n",
    "flag.to_sql(name='gri_flag',con=conn2,if_exists='append',index=False)"
   ]
  },
  {
   "cell_type": "code",
   "execution_count": 43,
   "metadata": {},
   "outputs": [],
   "source": [
    "base2 = base.copy()\n",
    "base2 = base2.rename(columns={'country':'country_url'})\n",
    "base2 = base2.merge(flag,left_on = 'country_url',right_on='flag_url')\n",
    "base2 = base2.dropna(subset=['country'])\n",
    "base2.drop(columns='Reports',inplace=True)"
   ]
  },
  {
   "cell_type": "code",
   "execution_count": 44,
   "metadata": {},
   "outputs": [
    {
     "data": {
      "text/plain": [
       "(14911, 8)"
      ]
     },
     "execution_count": 44,
     "metadata": {},
     "output_type": "execute_result"
    }
   ],
   "source": [
    "base2.shape"
   ]
  },
  {
   "cell_type": "code",
   "execution_count": 45,
   "metadata": {},
   "outputs": [
    {
     "data": {
      "text/html": [
       "<div>\n",
       "<style scoped>\n",
       "    .dataframe tbody tr th:only-of-type {\n",
       "        vertical-align: middle;\n",
       "    }\n",
       "\n",
       "    .dataframe tbody tr th {\n",
       "        vertical-align: top;\n",
       "    }\n",
       "\n",
       "    .dataframe thead th {\n",
       "        text-align: right;\n",
       "    }\n",
       "</style>\n",
       "<table border=\"1\" class=\"dataframe\">\n",
       "  <thead>\n",
       "    <tr style=\"text-align: right;\">\n",
       "      <th></th>\n",
       "      <th>ORG_name</th>\n",
       "      <th>ORG_url</th>\n",
       "      <th>size</th>\n",
       "      <th>sector</th>\n",
       "      <th>country_url</th>\n",
       "      <th>Region</th>\n",
       "      <th>flag_url</th>\n",
       "      <th>country</th>\n",
       "    </tr>\n",
       "  </thead>\n",
       "  <tbody>\n",
       "    <tr>\n",
       "      <th>0</th>\n",
       "      <td>104</td>\n",
       "      <td>/organizations/8738/</td>\n",
       "      <td>MNE</td>\n",
       "      <td>Media</td>\n",
       "      <td>/static/img/flag-icons/flags_iso/16/tw.png</td>\n",
       "      <td>Asia</td>\n",
       "      <td>/static/img/flag-icons/flags_iso/16/tw.png</td>\n",
       "      <td>Taiwan</td>\n",
       "    </tr>\n",
       "    <tr>\n",
       "      <th>1</th>\n",
       "      <td>AAEON Technology Inc.</td>\n",
       "      <td>/organizations/22189/</td>\n",
       "      <td>Large</td>\n",
       "      <td>Computers</td>\n",
       "      <td>/static/img/flag-icons/flags_iso/16/tw.png</td>\n",
       "      <td>Asia</td>\n",
       "      <td>/static/img/flag-icons/flags_iso/16/tw.png</td>\n",
       "      <td>Taiwan</td>\n",
       "    </tr>\n",
       "    <tr>\n",
       "      <th>2</th>\n",
       "      <td>Ablerex Electronics Co., Ltd.</td>\n",
       "      <td>/organizations/12590/</td>\n",
       "      <td>MNE</td>\n",
       "      <td>Technology Hardware</td>\n",
       "      <td>/static/img/flag-icons/flags_iso/16/tw.png</td>\n",
       "      <td>Asia</td>\n",
       "      <td>/static/img/flag-icons/flags_iso/16/tw.png</td>\n",
       "      <td>Taiwan</td>\n",
       "    </tr>\n",
       "    <tr>\n",
       "      <th>3</th>\n",
       "      <td>AcBel Polytech Inc.</td>\n",
       "      <td>/organizations/8254/</td>\n",
       "      <td>MNE</td>\n",
       "      <td>Technology Hardware</td>\n",
       "      <td>/static/img/flag-icons/flags_iso/16/tw.png</td>\n",
       "      <td>Asia</td>\n",
       "      <td>/static/img/flag-icons/flags_iso/16/tw.png</td>\n",
       "      <td>Taiwan</td>\n",
       "    </tr>\n",
       "    <tr>\n",
       "      <th>4</th>\n",
       "      <td>Accton Technology Corp.</td>\n",
       "      <td>/organizations/17257/</td>\n",
       "      <td>MNE</td>\n",
       "      <td>Automotive</td>\n",
       "      <td>/static/img/flag-icons/flags_iso/16/tw.png</td>\n",
       "      <td>Asia</td>\n",
       "      <td>/static/img/flag-icons/flags_iso/16/tw.png</td>\n",
       "      <td>Taiwan</td>\n",
       "    </tr>\n",
       "  </tbody>\n",
       "</table>\n",
       "</div>"
      ],
      "text/plain": [
       "                        ORG_name                ORG_url   size  \\\n",
       "0                            104   /organizations/8738/    MNE   \n",
       "1          AAEON Technology Inc.  /organizations/22189/  Large   \n",
       "2  Ablerex Electronics Co., Ltd.  /organizations/12590/    MNE   \n",
       "3            AcBel Polytech Inc.   /organizations/8254/    MNE   \n",
       "4        Accton Technology Corp.  /organizations/17257/    MNE   \n",
       "\n",
       "                sector                                 country_url Region  \\\n",
       "0                Media  /static/img/flag-icons/flags_iso/16/tw.png   Asia   \n",
       "1            Computers  /static/img/flag-icons/flags_iso/16/tw.png   Asia   \n",
       "2  Technology Hardware  /static/img/flag-icons/flags_iso/16/tw.png   Asia   \n",
       "3  Technology Hardware  /static/img/flag-icons/flags_iso/16/tw.png   Asia   \n",
       "4           Automotive  /static/img/flag-icons/flags_iso/16/tw.png   Asia   \n",
       "\n",
       "                                     flag_url country  \n",
       "0  /static/img/flag-icons/flags_iso/16/tw.png  Taiwan  \n",
       "1  /static/img/flag-icons/flags_iso/16/tw.png  Taiwan  \n",
       "2  /static/img/flag-icons/flags_iso/16/tw.png  Taiwan  \n",
       "3  /static/img/flag-icons/flags_iso/16/tw.png  Taiwan  \n",
       "4  /static/img/flag-icons/flags_iso/16/tw.png  Taiwan  "
      ]
     },
     "execution_count": 45,
     "metadata": {},
     "output_type": "execute_result"
    }
   ],
   "source": [
    "base2.head()"
   ]
  },
  {
   "cell_type": "code",
   "execution_count": 46,
   "metadata": {},
   "outputs": [],
   "source": [
    "\n",
    "base2.to_excel('gri_base_all.xlsx',index=False)"
   ]
  },
  {
   "cell_type": "code",
   "execution_count": 52,
   "metadata": {},
   "outputs": [],
   "source": [
    "base2.to_sql(name='gri_base_with_country',con=conn2,if_exists='append',index=False)"
   ]
  },
  {
   "cell_type": "code",
   "execution_count": 47,
   "metadata": {},
   "outputs": [],
   "source": [
    "rep2 = rep.merge(base2[['ORG_name','ORG_url']],on='ORG_url')\n",
    "rep2 = rep2.dropna(subset=['ORG_name'])\n"
   ]
  },
  {
   "cell_type": "code",
   "execution_count": 48,
   "metadata": {},
   "outputs": [
    {
     "data": {
      "text/plain": [
       "(62929, 5)"
      ]
     },
     "execution_count": 48,
     "metadata": {},
     "output_type": "execute_result"
    }
   ],
   "source": [
    "rep2.shape"
   ]
  },
  {
   "cell_type": "code",
   "execution_count": 49,
   "metadata": {},
   "outputs": [
    {
     "data": {
      "text/html": [
       "<div>\n",
       "<style scoped>\n",
       "    .dataframe tbody tr th:only-of-type {\n",
       "        vertical-align: middle;\n",
       "    }\n",
       "\n",
       "    .dataframe tbody tr th {\n",
       "        vertical-align: top;\n",
       "    }\n",
       "\n",
       "    .dataframe thead th {\n",
       "        text-align: right;\n",
       "    }\n",
       "</style>\n",
       "<table border=\"1\" class=\"dataframe\">\n",
       "  <thead>\n",
       "    <tr style=\"text-align: right;\">\n",
       "      <th></th>\n",
       "      <th>ORG_url</th>\n",
       "      <th>report_url</th>\n",
       "      <th>report_year</th>\n",
       "      <th>report_label</th>\n",
       "      <th>ORG_name</th>\n",
       "    </tr>\n",
       "  </thead>\n",
       "  <tbody>\n",
       "    <tr>\n",
       "      <th>0</th>\n",
       "      <td>/organizations/8738/</td>\n",
       "      <td>/reports/78733/</td>\n",
       "      <td>2019</td>\n",
       "      <td>GRI - Standards</td>\n",
       "      <td>104</td>\n",
       "    </tr>\n",
       "    <tr>\n",
       "      <th>1</th>\n",
       "      <td>/organizations/8738/</td>\n",
       "      <td>/reports/61008/</td>\n",
       "      <td>2018</td>\n",
       "      <td>GRI - G4</td>\n",
       "      <td>104</td>\n",
       "    </tr>\n",
       "    <tr>\n",
       "      <th>2</th>\n",
       "      <td>/organizations/8738/</td>\n",
       "      <td>/reports/56573/</td>\n",
       "      <td>2017</td>\n",
       "      <td>GRI - G4</td>\n",
       "      <td>104</td>\n",
       "    </tr>\n",
       "    <tr>\n",
       "      <th>3</th>\n",
       "      <td>/organizations/8738/</td>\n",
       "      <td>/reports/40587/</td>\n",
       "      <td>2016</td>\n",
       "      <td>Citing - GRI</td>\n",
       "      <td>104</td>\n",
       "    </tr>\n",
       "    <tr>\n",
       "      <th>4</th>\n",
       "      <td>/organizations/8738/</td>\n",
       "      <td>/reports/27981/</td>\n",
       "      <td>2015</td>\n",
       "      <td>GRI - G3.1</td>\n",
       "      <td>104</td>\n",
       "    </tr>\n",
       "  </tbody>\n",
       "</table>\n",
       "</div>"
      ],
      "text/plain": [
       "                ORG_url       report_url report_year     report_label ORG_name\n",
       "0  /organizations/8738/  /reports/78733/        2019  GRI - Standards      104\n",
       "1  /organizations/8738/  /reports/61008/        2018         GRI - G4      104\n",
       "2  /organizations/8738/  /reports/56573/        2017         GRI - G4      104\n",
       "3  /organizations/8738/  /reports/40587/        2016     Citing - GRI      104\n",
       "4  /organizations/8738/  /reports/27981/        2015       GRI - G3.1      104"
      ]
     },
     "execution_count": 49,
     "metadata": {},
     "output_type": "execute_result"
    }
   ],
   "source": [
    "rep2.head()"
   ]
  },
  {
   "cell_type": "code",
   "execution_count": 50,
   "metadata": {},
   "outputs": [],
   "source": [
    "rep2.to_excel('gri_reports_all.xlsx',index=False)"
   ]
  },
  {
   "cell_type": "code",
   "execution_count": null,
   "metadata": {},
   "outputs": [],
   "source": []
  },
  {
   "cell_type": "code",
   "execution_count": 16,
   "metadata": {},
   "outputs": [],
   "source": [
    "tmp = base.drop_duplicates(subset=['country'])[['ORG_url','country']]\n",
    "tmp.reset_index(inplace=True)"
   ]
  },
  {
   "cell_type": "code",
   "execution_count": 17,
   "metadata": {},
   "outputs": [
    {
     "data": {
      "text/html": [
       "<div>\n",
       "<style scoped>\n",
       "    .dataframe tbody tr th:only-of-type {\n",
       "        vertical-align: middle;\n",
       "    }\n",
       "\n",
       "    .dataframe tbody tr th {\n",
       "        vertical-align: top;\n",
       "    }\n",
       "\n",
       "    .dataframe thead th {\n",
       "        text-align: right;\n",
       "    }\n",
       "</style>\n",
       "<table border=\"1\" class=\"dataframe\">\n",
       "  <thead>\n",
       "    <tr style=\"text-align: right;\">\n",
       "      <th></th>\n",
       "      <th>index</th>\n",
       "      <th>ORG_url</th>\n",
       "      <th>country</th>\n",
       "    </tr>\n",
       "  </thead>\n",
       "  <tbody>\n",
       "    <tr>\n",
       "      <th>0</th>\n",
       "      <td>0</td>\n",
       "      <td>/organizations/8738/</td>\n",
       "      <td>/static/img/flag-icons/flags_iso/16/tw.png</td>\n",
       "    </tr>\n",
       "    <tr>\n",
       "      <th>1</th>\n",
       "      <td>1</td>\n",
       "      <td>/organizations/18810/</td>\n",
       "      <td>/static/img/flag-icons/flags_iso/16/de.png</td>\n",
       "    </tr>\n",
       "    <tr>\n",
       "      <th>2</th>\n",
       "      <td>2</td>\n",
       "      <td>/organizations/17892/</td>\n",
       "      <td>/static/img/flag-icons/flags_iso/16/af.png</td>\n",
       "    </tr>\n",
       "    <tr>\n",
       "      <th>3</th>\n",
       "      <td>3</td>\n",
       "      <td>/organizations/4821/</td>\n",
       "      <td>/static/img/flag-icons/flags_iso/16/za.png</td>\n",
       "    </tr>\n",
       "    <tr>\n",
       "      <th>4</th>\n",
       "      <td>4</td>\n",
       "      <td>/organizations/15230/</td>\n",
       "      <td>/static/img/flag-icons/flags_iso/16/ch.png</td>\n",
       "    </tr>\n",
       "    <tr>\n",
       "      <th>...</th>\n",
       "      <td>...</td>\n",
       "      <td>...</td>\n",
       "      <td>...</td>\n",
       "    </tr>\n",
       "    <tr>\n",
       "      <th>138</th>\n",
       "      <td>12684</td>\n",
       "      <td>/organizations/16767/</td>\n",
       "      <td>/static/img/flag-icons/flags_iso/16/ga.png</td>\n",
       "    </tr>\n",
       "    <tr>\n",
       "      <th>139</th>\n",
       "      <td>12690</td>\n",
       "      <td>/organizations/16764/</td>\n",
       "      <td>/static/img/flag-icons/flags_iso/16/cm.png</td>\n",
       "    </tr>\n",
       "    <tr>\n",
       "      <th>140</th>\n",
       "      <td>13164</td>\n",
       "      <td>/organizations/21644/</td>\n",
       "      <td>/static/img/flag-icons/flags_iso/16/sr.png</td>\n",
       "    </tr>\n",
       "    <tr>\n",
       "      <th>141</th>\n",
       "      <td>13275</td>\n",
       "      <td>/organizations/5402/</td>\n",
       "      <td>/static/img/flag-icons/flags_iso/16/sy.png</td>\n",
       "    </tr>\n",
       "    <tr>\n",
       "      <th>142</th>\n",
       "      <td>15592</td>\n",
       "      <td>/organizations/18608/</td>\n",
       "      <td>/static/img/flag-icons/flags_iso/16/mk.png</td>\n",
       "    </tr>\n",
       "  </tbody>\n",
       "</table>\n",
       "<p>143 rows × 3 columns</p>\n",
       "</div>"
      ],
      "text/plain": [
       "     index                ORG_url                                     country\n",
       "0        0   /organizations/8738/  /static/img/flag-icons/flags_iso/16/tw.png\n",
       "1        1  /organizations/18810/  /static/img/flag-icons/flags_iso/16/de.png\n",
       "2        2  /organizations/17892/  /static/img/flag-icons/flags_iso/16/af.png\n",
       "3        3   /organizations/4821/  /static/img/flag-icons/flags_iso/16/za.png\n",
       "4        4  /organizations/15230/  /static/img/flag-icons/flags_iso/16/ch.png\n",
       "..     ...                    ...                                         ...\n",
       "138  12684  /organizations/16767/  /static/img/flag-icons/flags_iso/16/ga.png\n",
       "139  12690  /organizations/16764/  /static/img/flag-icons/flags_iso/16/cm.png\n",
       "140  13164  /organizations/21644/  /static/img/flag-icons/flags_iso/16/sr.png\n",
       "141  13275   /organizations/5402/  /static/img/flag-icons/flags_iso/16/sy.png\n",
       "142  15592  /organizations/18608/  /static/img/flag-icons/flags_iso/16/mk.png\n",
       "\n",
       "[143 rows x 3 columns]"
      ]
     },
     "execution_count": 17,
     "metadata": {},
     "output_type": "execute_result"
    }
   ],
   "source": [
    "tmp"
   ]
  },
  {
   "cell_type": "markdown",
   "metadata": {},
   "source": [
    "# flag table"
   ]
  },
  {
   "cell_type": "code",
   "execution_count": 20,
   "metadata": {},
   "outputs": [],
   "source": [
    "from urllib.parse import urljoin\n"
   ]
  },
  {
   "cell_type": "code",
   "execution_count": 21,
   "metadata": {},
   "outputs": [
    {
     "name": "stdout",
     "output_type": "stream",
     "text": [
      "https://database.globalreporting.org/organizations/8738/\n"
     ]
    }
   ],
   "source": [
    "domain_url = 'https://database.globalreporting.org/'\n",
    "for r in tmp.itertuples():\n",
    "    url = getattr(r,'ORG_url')\n",
    "    url = urljoin(domain_url,url)\n",
    "    print(url)\n",
    "    break"
   ]
  },
  {
   "cell_type": "code",
   "execution_count": 22,
   "metadata": {},
   "outputs": [],
   "source": [
    "tmp.to_csv('flag_tmp.csv',index=False)"
   ]
  },
  {
   "cell_type": "code",
   "execution_count": null,
   "metadata": {},
   "outputs": [],
   "source": []
  }
 ],
 "metadata": {
  "kernelspec": {
   "display_name": "Python 3",
   "language": "python",
   "name": "python3"
  },
  "language_info": {
   "codemirror_mode": {
    "name": "ipython",
    "version": 3
   },
   "file_extension": ".py",
   "mimetype": "text/x-python",
   "name": "python",
   "nbconvert_exporter": "python",
   "pygments_lexer": "ipython3",
   "version": "3.8.3"
  }
 },
 "nbformat": 4,
 "nbformat_minor": 4
}
