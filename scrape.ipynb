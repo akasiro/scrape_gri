{
 "cells": [
  {
   "cell_type": "code",
   "execution_count": 1,
   "metadata": {},
   "outputs": [],
   "source": [
    "from selenium import webdriver\n",
    "from selenium.webdriver.common.by import By\n",
    "from selenium.webdriver.support.ui import WebDriverWait\n",
    "from selenium.webdriver.support import expected_conditions as EC\n",
    "from selenium.webdriver.support.select import Select\n",
    "from selenium.common.exceptions import TimeoutException #超时的异常\n",
    "from bs4 import BeautifulSoup\n",
    "from selenium.webdriver.common.desired_capabilities import DesiredCapabilities\n",
    "import time\n",
    "import os\n",
    "\n",
    "from gri_parser import gri_parser\n",
    "from gri_output import gri_output"
   ]
  },
  {
   "cell_type": "code",
   "execution_count": 2,
   "metadata": {},
   "outputs": [],
   "source": [
    "gp = gri_parser()\n",
    "go = gri_output('test.db')"
   ]
  },
  {
   "cell_type": "code",
   "execution_count": 3,
   "metadata": {},
   "outputs": [],
   "source": [
    "# on X1\n",
    "driver = webdriver.Chrome()\n",
    "\n",
    "driver.get(\"https://database.globalreporting.org\")"
   ]
  },
  {
   "cell_type": "code",
   "execution_count": null,
   "metadata": {},
   "outputs": [],
   "source": [
    "select_element = WebDriverWait(driver, 100).until(\n",
    "        EC.presence_of_element_located((By.NAME, \"results-datatable_length\"))\n",
    "    )\n",
    "select_element.click()\n",
    "time.sleep(1)\n",
    "Select(select_element).select_by_value('100')\n",
    "select_element.click()\n",
    "time.sleep(10)\n"
   ]
  },
  {
   "cell_type": "code",
   "execution_count": null,
   "metadata": {},
   "outputs": [],
   "source": [
    "while True:\n",
    "    table = WebDriverWait(driver,10).until(\n",
    "        EC.presence_of_all_elements_located((By.ID,'results-datatable'))\n",
    "    )\n",
    "    content = driver.page_source\n",
    "    \n",
    "    data_dict = gp.index_parser(content)\n",
    "    df1 = go.output_base(data_dict)\n",
    "    df2 = go.output_reports(data_dict)\n",
    "    time.sleep(10)\n",
    "    # 3. 判断next是否可以click是\n",
    "    next_page = driver.find_element_by_css_selector('#results-datatable_next > a')\n",
    "    try:\n",
    "        next_page.click()\n",
    "        time.sleep(200)\n",
    "    except:\n",
    "        break"
   ]
  },
  {
   "cell_type": "code",
   "execution_count": null,
   "metadata": {},
   "outputs": [],
   "source": [
    "next_page = driver.find_element_by_css_selector('#results-datatable_next > a')\n",
    "next_page.click()"
   ]
  },
  {
   "cell_type": "code",
   "execution_count": null,
   "metadata": {},
   "outputs": [],
   "source": [
    "df1 = go.output_base(data_dict)"
   ]
  },
  {
   "cell_type": "code",
   "execution_count": null,
   "metadata": {},
   "outputs": [],
   "source": [
    "driver.quit()"
   ]
  },
  {
   "cell_type": "code",
   "execution_count": null,
   "metadata": {},
   "outputs": [],
   "source": [
    "for k in data_dict.keys():\n",
    "    print(k)"
   ]
  },
  {
   "cell_type": "markdown",
   "metadata": {},
   "source": [
    "# 1. downloader"
   ]
  },
  {
   "cell_type": "code",
   "execution_count": null,
   "metadata": {},
   "outputs": [],
   "source": [
    "chrome_options = webdriver.ChromeOptions()\n",
    "chrome_options.add_argument('--headless')#无头模式，服务器没有图形界面这个必须\n",
    "chrome_options.add_argument('--disable-gpu')#不需要gpu加速\n",
    "chrome_options.add_argument('--no-sandbox') # 这个配置很重要\n",
    "chrome_options.add_argument(\"user-agent='Mozilla/5.0 (Windows NT 10.0; Win64; x64) AppleWebKit/537.36 (KHTML, like Gecko) Chrome/86.0.4240.111 Safari/537.36'\")\n",
    "driver = webdriver.Chrome(chrome_options=chrome_options)    # 如果没有把chromedriver加入到PATH中，就需要指明路径\n",
    "gp = gri_parser()\n",
    "go = gri_output('../test.db')\n",
    "driver.get(\"https://database.globalreporting.org/search/\")\n",
    "\n",
    "# 1. 等待加载之后处理复选框\n",
    "try:\n",
    "    select_element = WebDriverWait(driver, 10).until(\n",
    "        EC.presence_of_element_located((By.NAME, \"results-datatable_length\"))\n",
    "    )\n",
    "    Select(select_element).select_by_value('100')\n",
    "finally:\n",
    "    driver.quit()\n",
    "# 2. 等待table加载完成后保存网页\n",
    "try:\n",
    "    table = WebDriverWait(driver,10).until(\n",
    "        EC.presence_of_all_elements_located((By.ID,'results-datatable'))\n",
    "    )\n",
    "    content = driver.page_source\n",
    "    data_dict = gp.index_parser(content)\n",
    "    df1 = go.output_base(data_dict)\n",
    "    df2 = go.output_reports(data_dict)\n",
    "    time.sleep(10)\n",
    "# 3. 判断next是否可以click是\n",
    "    next_page = driver.find_element_by_css_selector('#results-datatable_wrapper > div:nth-child(3) > div.col-sm-7 > div > ul > li.paginate_button.page-item.next')\n",
    "    if next_page.is_enable():\n",
    "        next_page.click()\n",
    "finally:\n",
    "    driver.quit()\n"
   ]
  },
  {
   "cell_type": "markdown",
   "metadata": {},
   "source": [
    "# 2. parser"
   ]
  },
  {
   "cell_type": "code",
   "execution_count": null,
   "metadata": {},
   "outputs": [],
   "source": [
    "%%writefile gri_parser.py\n",
    "from bs4 import BeautifulSoup\n",
    "class gri_parser():\n",
    "    '''\n",
    "    parser the search result of https://database.globalreporting.org/search/\n",
    "    \n",
    "    '''\n",
    "    def index_parser(self,content):\n",
    "        '''\n",
    "        20201022\n",
    "        to parser the search result\n",
    "        Args:\n",
    "            content (binary or str): the html source of page\n",
    "        Returns:\n",
    "            dict: a data dictionary\n",
    "        '''\n",
    "        # data container\n",
    "        data_dict = {'ORG_name':[],'ORG_url':[],'size':[],'sector':[],'country':[], 'region':[], 'reports':[]}\n",
    "        \n",
    "        # parse\n",
    "        soup = BeautifulSoup(content, 'html.parser')\n",
    "        table = soup.find('table',{'class':'table table-hover dataTable'})\n",
    "        tablebody = table.tbody\n",
    "        for tr in tablebody.find_all('tr'):\n",
    "            tmp_dict = {}\n",
    "            tds = tr.find_all('td')\n",
    "            tmp_dict['ORG_name'] = tds[0].get_text().strip()\n",
    "            tmp_dict['ORG_url'] = tds[0].h4.a['href']\n",
    "            tmp_dict['size'] = tds[1].get_text()\n",
    "            tmp_dict['sector'] = tds[2].get_text()\n",
    "            tmp_dict['country'] = tds[3].img['src']\n",
    "            tmp_dict['region'] = tds[4].get_text()\n",
    "            tmp_dict['reports'] = []\n",
    "            \n",
    "            for a in tds[5].find_all('a'):\n",
    "                tmp_report = {}\n",
    "                tmp_report['report_url'] = a['href']\n",
    "                tmp_report['report_year'] = a.span.contents[0].replace('-','').strip()\n",
    "                tmp_report['report_label'] = a.find('span',{'class':'text-slim label label-primary'}).get_text().strip()\n",
    "                tmp_dict['reports'].append(tmp_report)\n",
    "            \n",
    "            for k in data_dict.keys():\n",
    "                data_dict[k].append(tmp_dict.get(k))\n",
    "        return data_dict\n",
    "\n",
    "# if __name__ == '__main__':\n",
    "with open('database.globalreporting.org_search.html','rb') as f:\n",
    "    content = f.read()\n",
    "gp = gri_parser()\n",
    "data_dict = gp.index_parser(content)\n",
    "# print(data_dict)"
   ]
  },
  {
   "cell_type": "markdown",
   "metadata": {},
   "source": [
    "# 3. output"
   ]
  },
  {
   "cell_type": "code",
   "execution_count": null,
   "metadata": {},
   "outputs": [],
   "source": [
    "%%writefile gri_output.py\n",
    "import pandas as pd\n",
    "import sqlite3\n",
    "\n",
    "class gri_output():\n",
    "    '''\n",
    "    for data save\n",
    "    Attributes:\n",
    "        dbpath (str): the database path\n",
    "    '''\n",
    "    def __init__(self, dbpath=None):\n",
    "        '''\n",
    "        Args:\n",
    "            dbpath (str): the database path, default to None\n",
    "        '''\n",
    "        self.dbpath = dbpath\n",
    "        self.conn = sqlite3.connect(dbpath)\n",
    "    def output_base(self,data_dict,table_name='gri_base'):\n",
    "        '''\n",
    "        for save page to database\n",
    "        Args:\n",
    "            data_dict (dict): the data\n",
    "            table_name (str): the table name to store the data\n",
    "        '''\n",
    "        df = pd.DataFrame(data_dict)\n",
    "        df = df[['ORG_name','ORG_url','size','sector','country', 'region']]\n",
    "        df.to_sql(name=table_name,con=self.conn,if_exists='append',index=False)\n",
    "        return df\n",
    "    def output_reports(self,data_dict,table_name='gri_reports'):\n",
    "        tmp_dict = {'ORG_url':[],'report_url':[],'report_year':[],'report_label':[]}\n",
    "        for u,rs in zip(data_dict['ORG_url'],data_dict['reports']):\n",
    "            if not rs:\n",
    "                continue\n",
    "            for r in rs:\n",
    "                tmp_dict['ORG_url'].append(u)\n",
    "                for k in list(tmp_dict.keys())[1:]:\n",
    "                    tmp_dict[k].append(r.get(k))\n",
    "        df = pd.DataFrame(tmp_dict)\n",
    "        df.to_sql(name=table_name,con=self.conn,if_exists='append',index=False)\n",
    "        return df"
   ]
  },
  {
   "cell_type": "markdown",
   "metadata": {},
   "source": [
    "# 处理flag"
   ]
  },
  {
   "cell_type": "code",
   "execution_count": 2,
   "metadata": {},
   "outputs": [],
   "source": [
    "import requests"
   ]
  },
  {
   "cell_type": "code",
   "execution_count": 4,
   "metadata": {},
   "outputs": [
    {
     "name": "stderr",
     "output_type": "stream",
     "text": [
      "D:\\software\\Anaconda\\lib\\site-packages\\urllib3\\connectionpool.py:979: InsecureRequestWarning: Unverified HTTPS request is being made to host 'database.globalreporting.org'. Adding certificate verification is strongly advised. See: https://urllib3.readthedocs.io/en/latest/advanced-usage.html#ssl-warnings\n",
      "  warnings.warn(\n"
     ]
    }
   ],
   "source": [
    "r = requests.get('https://database.globalreporting.org/organizations/8738/',verify=False)"
   ]
  },
  {
   "cell_type": "code",
   "execution_count": 5,
   "metadata": {},
   "outputs": [
    {
     "data": {
      "text/plain": [
       "200"
      ]
     },
     "execution_count": 5,
     "metadata": {},
     "output_type": "execute_result"
    }
   ],
   "source": [
    "r.status_code"
   ]
  },
  {
   "cell_type": "code",
   "execution_count": 8,
   "metadata": {},
   "outputs": [],
   "source": [
    "with open('page.html','ab+') as f:\n",
    "    f.write(r.content)"
   ]
  },
  {
   "cell_type": "code",
   "execution_count": null,
   "metadata": {},
   "outputs": [],
   "source": []
  }
 ],
 "metadata": {
  "kernelspec": {
   "display_name": "Python 3",
   "language": "python",
   "name": "python3"
  },
  "language_info": {
   "codemirror_mode": {
    "name": "ipython",
    "version": 3
   },
   "file_extension": ".py",
   "mimetype": "text/x-python",
   "name": "python",
   "nbconvert_exporter": "python",
   "pygments_lexer": "ipython3",
   "version": "3.8.3"
  }
 },
 "nbformat": 4,
 "nbformat_minor": 4
}
